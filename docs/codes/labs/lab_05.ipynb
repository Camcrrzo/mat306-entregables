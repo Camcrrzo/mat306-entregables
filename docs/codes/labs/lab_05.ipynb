{
 "cells": [
  {
   "cell_type": "markdown",
   "metadata": {},
   "source": [
    "<a href=\"https://colab.research.google.com/github/fralfaro/MAT306/blob/main/docs/labs/lab_05.ipynb\" target=\"_parent\"><img src=\"https://colab.research.google.com/assets/colab-badge.svg\" alt=\"Open In Colab\"/></a>\n",
    "\n",
    "\n",
    "# MAT306 - Laboratorio N°05\n",
    "\n"
   ]
  },
  {
   "cell_type": "markdown",
   "metadata": {},
   "source": [
    "\n",
    "\n",
    "**Objetivo**: Explorar y visualizar datos de Netflix usando **matplotlib** y **seaborn/plotly**, aprendiendo a elegir gráficos adecuados para distintos tipos de variables y preguntas de análisis.\n",
    "\n",
    "\n",
    "\n",
    "**Dataset**: \n",
    "\n",
    "Trabajaremos con el archivo `netflix_titles.csv`, que contiene información sobre los títulos disponibles en la plataforma Netflix hasta el año 2021.\n",
    "\n",
    "| Variable       | Clase     | Descripción                                                                 |\n",
    "|----------------|-----------|------------------------------------------------------------------------------|\n",
    "| show_id        | caracter  | Identificador único del título en el catálogo de Netflix.                   |\n",
    "| type           | caracter  | Tipo de contenido: 'Movie' o 'TV Show'.                                     |\n",
    "| title          | caracter  | Título del contenido.                                                       |\n",
    "| director       | caracter  | Nombre del director (puede ser nulo).                                       |\n",
    "| cast           | caracter  | Lista de actores principales (puede ser nulo).                              |\n",
    "| country        | caracter  | País o países donde se produjo el contenido.                                |\n",
    "| date_added     | fecha     | Fecha en la que el título fue agregado al catálogo de Netflix.              |\n",
    "| release_year   | entero    | Año de lanzamiento original del título.                                     |\n",
    "| rating         | caracter  | Clasificación por edad (por ejemplo: 'PG-13', 'TV-MA').                      |\n",
    "| duration       | caracter  | Duración del contenido (minutos o número de temporadas para series).        |\n",
    "| listed_in      | caracter  | Categorías o géneros en los que está clasificado el contenido.              |\n",
    "| description    | caracter  | Breve sinopsis del contenido.                                               |\n",
    "\n",
    "\n"
   ]
  },
  {
   "cell_type": "code",
   "execution_count": 2,
   "metadata": {},
   "outputs": [],
   "source": [
    "import pandas as pd\n",
    "import seaborn as sns\n",
    "import matplotlib.pyplot as plt\n",
    "\n",
    "sns.set_theme(style=\"whitegrid\")"
   ]
  },
  {
   "cell_type": "code",
   "execution_count": 3,
   "metadata": {},
   "outputs": [
    {
     "data": {
      "text/html": [
       "<div>\n",
       "<style scoped>\n",
       "    .dataframe tbody tr th:only-of-type {\n",
       "        vertical-align: middle;\n",
       "    }\n",
       "\n",
       "    .dataframe tbody tr th {\n",
       "        vertical-align: top;\n",
       "    }\n",
       "\n",
       "    .dataframe thead th {\n",
       "        text-align: right;\n",
       "    }\n",
       "</style>\n",
       "<table border=\"1\" class=\"dataframe\">\n",
       "  <thead>\n",
       "    <tr style=\"text-align: right;\">\n",
       "      <th></th>\n",
       "      <th>show_id</th>\n",
       "      <th>type</th>\n",
       "      <th>title</th>\n",
       "      <th>director</th>\n",
       "      <th>cast</th>\n",
       "      <th>country</th>\n",
       "      <th>date_added</th>\n",
       "      <th>release_year</th>\n",
       "      <th>rating</th>\n",
       "      <th>duration</th>\n",
       "      <th>listed_in</th>\n",
       "      <th>description</th>\n",
       "    </tr>\n",
       "  </thead>\n",
       "  <tbody>\n",
       "    <tr>\n",
       "      <th>0</th>\n",
       "      <td>s1</td>\n",
       "      <td>Movie</td>\n",
       "      <td>Dick Johnson Is Dead</td>\n",
       "      <td>Kirsten Johnson</td>\n",
       "      <td>NaN</td>\n",
       "      <td>United States</td>\n",
       "      <td>September 25, 2021</td>\n",
       "      <td>2020</td>\n",
       "      <td>PG-13</td>\n",
       "      <td>90 min</td>\n",
       "      <td>Documentaries</td>\n",
       "      <td>As her father nears the end of his life, filmm...</td>\n",
       "    </tr>\n",
       "    <tr>\n",
       "      <th>1</th>\n",
       "      <td>s2</td>\n",
       "      <td>TV Show</td>\n",
       "      <td>Blood &amp; Water</td>\n",
       "      <td>NaN</td>\n",
       "      <td>Ama Qamata, Khosi Ngema, Gail Mabalane, Thaban...</td>\n",
       "      <td>South Africa</td>\n",
       "      <td>September 24, 2021</td>\n",
       "      <td>2021</td>\n",
       "      <td>TV-MA</td>\n",
       "      <td>2 Seasons</td>\n",
       "      <td>International TV Shows, TV Dramas, TV Mysteries</td>\n",
       "      <td>After crossing paths at a party, a Cape Town t...</td>\n",
       "    </tr>\n",
       "    <tr>\n",
       "      <th>2</th>\n",
       "      <td>s3</td>\n",
       "      <td>TV Show</td>\n",
       "      <td>Ganglands</td>\n",
       "      <td>Julien Leclercq</td>\n",
       "      <td>Sami Bouajila, Tracy Gotoas, Samuel Jouy, Nabi...</td>\n",
       "      <td>NaN</td>\n",
       "      <td>September 24, 2021</td>\n",
       "      <td>2021</td>\n",
       "      <td>TV-MA</td>\n",
       "      <td>1 Season</td>\n",
       "      <td>Crime TV Shows, International TV Shows, TV Act...</td>\n",
       "      <td>To protect his family from a powerful drug lor...</td>\n",
       "    </tr>\n",
       "    <tr>\n",
       "      <th>3</th>\n",
       "      <td>s4</td>\n",
       "      <td>TV Show</td>\n",
       "      <td>Jailbirds New Orleans</td>\n",
       "      <td>NaN</td>\n",
       "      <td>NaN</td>\n",
       "      <td>NaN</td>\n",
       "      <td>September 24, 2021</td>\n",
       "      <td>2021</td>\n",
       "      <td>TV-MA</td>\n",
       "      <td>1 Season</td>\n",
       "      <td>Docuseries, Reality TV</td>\n",
       "      <td>Feuds, flirtations and toilet talk go down amo...</td>\n",
       "    </tr>\n",
       "    <tr>\n",
       "      <th>4</th>\n",
       "      <td>s5</td>\n",
       "      <td>TV Show</td>\n",
       "      <td>Kota Factory</td>\n",
       "      <td>NaN</td>\n",
       "      <td>Mayur More, Jitendra Kumar, Ranjan Raj, Alam K...</td>\n",
       "      <td>India</td>\n",
       "      <td>September 24, 2021</td>\n",
       "      <td>2021</td>\n",
       "      <td>TV-MA</td>\n",
       "      <td>2 Seasons</td>\n",
       "      <td>International TV Shows, Romantic TV Shows, TV ...</td>\n",
       "      <td>In a city of coaching centers known to train I...</td>\n",
       "    </tr>\n",
       "  </tbody>\n",
       "</table>\n",
       "</div>"
      ],
      "text/plain": [
       "  show_id     type                  title         director  \\\n",
       "0      s1    Movie   Dick Johnson Is Dead  Kirsten Johnson   \n",
       "1      s2  TV Show          Blood & Water              NaN   \n",
       "2      s3  TV Show              Ganglands  Julien Leclercq   \n",
       "3      s4  TV Show  Jailbirds New Orleans              NaN   \n",
       "4      s5  TV Show           Kota Factory              NaN   \n",
       "\n",
       "                                                cast        country  \\\n",
       "0                                                NaN  United States   \n",
       "1  Ama Qamata, Khosi Ngema, Gail Mabalane, Thaban...   South Africa   \n",
       "2  Sami Bouajila, Tracy Gotoas, Samuel Jouy, Nabi...            NaN   \n",
       "3                                                NaN            NaN   \n",
       "4  Mayur More, Jitendra Kumar, Ranjan Raj, Alam K...          India   \n",
       "\n",
       "           date_added  release_year rating   duration  \\\n",
       "0  September 25, 2021          2020  PG-13     90 min   \n",
       "1  September 24, 2021          2021  TV-MA  2 Seasons   \n",
       "2  September 24, 2021          2021  TV-MA   1 Season   \n",
       "3  September 24, 2021          2021  TV-MA   1 Season   \n",
       "4  September 24, 2021          2021  TV-MA  2 Seasons   \n",
       "\n",
       "                                           listed_in  \\\n",
       "0                                      Documentaries   \n",
       "1    International TV Shows, TV Dramas, TV Mysteries   \n",
       "2  Crime TV Shows, International TV Shows, TV Act...   \n",
       "3                             Docuseries, Reality TV   \n",
       "4  International TV Shows, Romantic TV Shows, TV ...   \n",
       "\n",
       "                                         description  \n",
       "0  As her father nears the end of his life, filmm...  \n",
       "1  After crossing paths at a party, a Cape Town t...  \n",
       "2  To protect his family from a powerful drug lor...  \n",
       "3  Feuds, flirtations and toilet talk go down amo...  \n",
       "4  In a city of coaching centers known to train I...  "
      ]
     },
     "execution_count": 3,
     "metadata": {},
     "output_type": "execute_result"
    }
   ],
   "source": [
    "import pandas as pd\n",
    "\n",
    "# Cargar datos\n",
    "df = pd.read_csv('https://raw.githubusercontent.com/fralfaro/MAT306/main/docs/labs/data/netflix_titles.csv')\n",
    "df.head()"
   ]
  },
  {
   "cell_type": "markdown",
   "metadata": {},
   "source": [
    "## 📊 Parte 1: Exploración visual básica\n",
    "\n",
    "1. **Distribución de tipos de contenido**\n",
    "\n",
    "   * Realiza un gráfico de barras mostrando la cantidad de películas vs series (`type`).\n",
    "   * Pregunta guía: ¿Cuál es el tipo de contenido predominante en Netflix? ¿Qué implicancias podría tener para los usuarios?\n",
    "\n",
    "2. **Histograma de años de lanzamiento**\n",
    "\n",
    "   * Muestra cómo se distribuyen los títulos según su `release_year`.\n",
    "   * Pregunta guía: ¿Hay más contenido reciente o antiguo? ¿Notas algún patrón en décadas específicas?\n",
    "\n",
    "3. **Proporción de clasificaciones por edad (`rating`)**\n",
    "\n",
    "   * Haz un gráfico circular o de barras.\n",
    "   * Pregunta guía: ¿Qué clasificación es más común? ¿Crees que Netflix está más enfocado en público adulto, familiar o infantil?\n",
    "\n"
   ]
  },
  {
   "cell_type": "code",
   "execution_count": null,
   "metadata": {},
   "outputs": [],
   "source": [
    "# Gráfico de barras\n",
    "df['type'].value_counts().plot(kind='bar')\n",
    "\n",
    "plt.title('Cantidad de Películas vs Series')\n",
    "plt.xlabel('Tipo de Contenido')\n",
    "plt.ylabel('Cantidad')\n",
    "plt.show()"
   ]
  },
  {
   "cell_type": "markdown",
   "metadata": {},
   "source": [
    "El tipo de contenido predominante en Netflix son las películas, lo que implica que los usuarios tienen una mayor oferta de películas para elegir."
   ]
  },
  {
   "cell_type": "code",
   "execution_count": null,
   "metadata": {},
   "outputs": [],
   "source": [
    "# Histograma\n",
    "df['release_year'].plot(kind='hist', bins=30, edgecolor='black')\n",
    "\n",
    "plt.title('Distribución de títulos por año de lanzamiento')\n",
    "plt.xlabel('Año de lanzamiento')\n",
    "plt.ylabel('Frecuencia')\n",
    "plt.show()"
   ]
  },
  {
   "cell_type": "markdown",
   "metadata": {},
   "source": [
    "La distribución muestra que la mayoría del contenido corresponde a años recientes, especialmente desde el 2000 en adelante, con un crecimiento marcado a partir de la década del 2010. Los títulos anteriores a 1990 son escasos."
   ]
  },
  {
   "cell_type": "code",
   "execution_count": null,
   "metadata": {},
   "outputs": [],
   "source": [
    "# Gráfico circular\n",
    "df['rating'].value_counts().plot(kind='pie', autopct='%1.1f%%')\n",
    "\n",
    "plt.title('Proporción de clasificaciones por edad')\n",
    "plt.ylabel('')\n",
    "plt.show()\n"
   ]
  },
  {
   "cell_type": "markdown",
   "metadata": {},
   "source": [
    "La clasificación más común es TV-MA. Esto indica que Netflix está principalmente enfocado en un público adulto."
   ]
  },
  {
   "cell_type": "markdown",
   "metadata": {},
   "source": [
    "\n",
    "\n",
    "## 🎨 Parte 2: Tendencias y evolución en el tiempo\n",
    "\n",
    "4. **Número de títulos agregados por año**\n",
    "\n",
    "   * Usa `date_added` (convertido a fecha) y grafica una serie temporal.\n",
    "   * Pregunta guía: ¿Cuándo creció más el catálogo de Netflix? ¿Qué relación podría tener con la expansión internacional de la plataforma?\n",
    "\n",
    "5. **Heatmap de lanzamientos por año y mes**\n",
    "\n",
    "   * Construye un mapa de calor con `year_added` y `month_added`.\n",
    "   * Pregunta guía: ¿Hay meses con más estrenos que otros? ¿Qué conclusiones puedes sacar sobre la estacionalidad de lanzamientos?\n",
    "\n",
    "6. **Duración de películas por género**\n",
    "\n",
    "   * Extrae la duración en minutos y crea un boxplot agrupado por género principal.\n",
    "   * Pregunta guía: ¿Qué géneros suelen durar más? ¿Qué podrías decir sobre la variabilidad dentro de un mismo género?\n"
   ]
  },
  {
   "cell_type": "code",
   "execution_count": null,
   "metadata": {},
   "outputs": [],
   "source": [
    "df['date_added'] = pd.to_datetime(df['date_added'].str.strip(), errors='coerce')\n",
    "df['date_added'].dt.year.value_counts().sort_index().plot(kind='line')\n",
    "\n",
    "plt.title('Número de títulos agregados por año')\n",
    "plt.xlabel('Año')\n",
    "plt.ylabel('Cantidad de títulos')\n",
    "plt.show()"
   ]
  },
  {
   "cell_type": "markdown",
   "metadata": {},
   "source": [
    "El catálogo de Netflix creció más entre 2016 y 2019. Aumento que coincide con la expansión internacional de la plataforma, cuando Netflix amplió su presencia a más países."
   ]
  },
  {
   "cell_type": "code",
   "execution_count": null,
   "metadata": {},
   "outputs": [],
   "source": [
    "# Crear columnas de año y mes\n",
    "df['year_added'] = df['date_added'].dt.year\n",
    "df['month_added'] = df['date_added'].dt.month\n",
    "\n",
    "# Tabla dinámica\n",
    "heatmap_data = df.pivot_table(index='year_added', columns='month_added', values='show_id', aggfunc='count')\n",
    "\n",
    "# Heatmap\n",
    "sns.heatmap(heatmap_data, cmap='Blues')\n",
    "\n",
    "plt.title('Lanzamientos por año y mes')\n",
    "plt.xlabel('Mes')\n",
    "plt.ylabel('Año')\n",
    "plt.show()"
   ]
  },
  {
   "cell_type": "markdown",
   "metadata": {},
   "source": [
    "Sí, se observan mayor cantidad de estrenos en los meses de julio y diciembre, lo que sugiere cierta estacionalidad asociada a vacaciones y fin de año. Esto indica que Netflix concentra lanzamientos en periodos de mayor consumo."
   ]
  },
  {
   "cell_type": "code",
   "execution_count": null,
   "metadata": {},
   "outputs": [],
   "source": [
    "# Filtrar solo películas y extraer duración\n",
    "movies = df[df['type'] == 'Movie'].copy()\n",
    "movies['duration_min'] = movies['duration'].str.replace(' min','').astype(float)\n",
    "\n",
    "# Boxplot\n",
    "movies['main_genre'] = movies['listed_in'].str.split(',').str[0]\n",
    "sns.boxplot(x='main_genre', y='duration_min', data=movies)\n",
    "\n",
    "plt.title('Duración de películas por género principal')\n",
    "plt.xlabel('Género')\n",
    "plt.ylabel('Duración (min)')\n",
    "plt.xticks(rotation=90)\n",
    "plt.show()\n"
   ]
  },
  {
   "cell_type": "markdown",
   "metadata": {},
   "source": [
    "Los géneros con mayor duración son Classic Movies, Action & Adventure y Dramas. Se observa una alta variabilidad dentro de la mayoría de los géneros, lo que indica que no existe una duración estándar fija"
   ]
  },
  {
   "cell_type": "markdown",
   "metadata": {},
   "source": [
    "\n",
    "\n",
    "## 🔥 Parte 3: Comparaciones y relaciones\n",
    "\n",
    "7. **Top 10 países con más producciones**\n",
    "\n",
    "   * Usa un gráfico de barras para mostrar los países más frecuentes en la columna `country`.\n",
    "   * Pregunta guía: ¿Qué países dominan el catálogo? ¿Sorprende la distribución o es esperada?\n",
    "\n",
    "8. **Películas vs Series según género**\n",
    "\n",
    "   * Realiza un gráfico de barras apiladas para mostrar la cantidad de títulos por género, separando `Movie` y `TV Show`.\n",
    "   * Pregunta guía: ¿Existen géneros más asociados a películas o a series?\n",
    "\n",
    "9. **Relación entre duración y año de lanzamiento**\n",
    "\n",
    "   * Haz un gráfico de dispersión (scatterplot) con `release_year` en el eje X y `duration` (en minutos) en el eje Y.\n",
    "   * Pregunta guía: ¿Han cambiado los estándares de duración de las películas con el tiempo? ¿Se ven outliers interesantes?\n",
    "\n"
   ]
  },
  {
   "cell_type": "code",
   "execution_count": null,
   "metadata": {},
   "outputs": [],
   "source": [
    "# Países con más producciones\n",
    "df['country'].value_counts().head(10).plot(kind='bar')\n",
    "\n",
    "plt.title('Top 10 países con más producciones')\n",
    "plt.xlabel('País')\n",
    "plt.ylabel('Cantidad de títulos')\n",
    "plt.show()"
   ]
  },
  {
   "cell_type": "markdown",
   "metadata": {},
   "source": [
    "El catálogo está dominado por Estados Unidos, seguido a distancia por India y el Reino Unido. La distribución es esperada, ya que refleja el peso de estas industrias en la producción audiovisual global."
   ]
  },
  {
   "cell_type": "code",
   "execution_count": null,
   "metadata": {},
   "outputs": [],
   "source": [
    "# Tomar el primer género de la lista\n",
    "df['main_genre'] = df['listed_in'].str.split(',').str[0]\n",
    "\n",
    "# Tabla de conteo\n",
    "genre_type = df.groupby(['main_genre', 'type']).size().unstack(fill_value=0)\n",
    "\n",
    "# Gráfico de barras apiladas\n",
    "genre_type.plot(kind='bar', stacked=True, figsize=(10,6))\n",
    "\n",
    "plt.title('Películas vs Series según género')\n",
    "plt.xlabel('Género')\n",
    "plt.ylabel('Cantidad de títulos')\n",
    "plt.xticks(rotation=90)\n",
    "plt.show()"
   ]
  },
  {
   "cell_type": "markdown",
   "metadata": {},
   "source": [
    "Sí. Géneros como Dramas, Comedies y Documentaries se asocian principalmente a películas, mientras que International TV Shows, Kids’ TV y TV Dramas están más vinculados a series."
   ]
  },
  {
   "cell_type": "code",
   "execution_count": null,
   "metadata": {},
   "outputs": [],
   "source": [
    "# Filtrar solo películas y extraer duración en minutos\n",
    "movies = df[df['type'] == 'Movie'].copy()\n",
    "movies['duration_min'] = movies['duration'].str.replace(' min','').astype(float)\n",
    "\n",
    "# Gráfico de dispersión\n",
    "plt.scatter(movies['release_year'], movies['duration_min'], alpha=0.3)\n",
    "\n",
    "plt.title('Duración de películas según año de lanzamiento')\n",
    "plt.xlabel('Año de lanzamiento')\n",
    "plt.ylabel('Duración (min)')\n",
    "plt.show()"
   ]
  },
  {
   "cell_type": "markdown",
   "metadata": {},
   "source": [
    "La duración de las películas se mantiene estable en el rango de 90 a 150 minutos a lo largo del tiempo. No obstante, se observan outliers con duraciones muy altas, especialmente en años recientes, lo que corresponde a producciones especiales."
   ]
  },
  {
   "cell_type": "markdown",
   "metadata": {},
   "source": [
    "## ⭐ Desafío Final\n",
    "\n",
    "* Encuentra las combinaciones más frecuentes de **género + rating** y represéntalas en un **heatmap o gráfico de burbujas**.\n",
    "* Pregunta guía: ¿Qué géneros están más dirigidos a un público adulto? ¿Y cuáles a público familiar o infantil?"
   ]
  },
  {
   "cell_type": "code",
   "execution_count": 17,
   "metadata": {},
   "outputs": [
    {
     "data": {
      "image/png": "[encoded data removed]",
      "text/plain": [
       "<Figure size 640x480 with 2 Axes>"
      ]
     },
     "metadata": {},
     "output_type": "display_data"
    }
   ],
   "source": [
    "# Tomar género principal\n",
    "df['main_genre'] = df['listed_in'].str.split(',').str[0]\n",
    "\n",
    "# Tabla de frecuencia género + rating\n",
    "combo = df.groupby(['main_genre', 'rating']).size().unstack(fill_value=0)\n",
    "\n",
    "# Heatmap\n",
    "sns.heatmap(combo, cmap=\"Blues\")\n",
    "\n",
    "plt.title('Combinaciones más frecuentes de Género + Rating')\n",
    "plt.xlabel('Rating')\n",
    "plt.ylabel('Género')\n",
    "plt.show()"
   ]
  },
  {
   "cell_type": "markdown",
   "metadata": {},
   "source": [
    "Los géneros como Dramas, Documentaries e International TV Shows se concentran en clasificaciones TV-MA y TV-14, dirigidos principalmente a un público adulto.\n",
    "En cambio, géneros como Children & Family Movies y LGBTQ Movies se asocian más a clasificaciones como TV-Y, TV-Y7 y PG, orientadas a un público familiar e infantil."
   ]
  }
 ],
 "metadata": {
  "kernelspec": {
   "display_name": "Python 3",
   "language": "python",
   "name": "python3"
  },
  "language_info": {
   "codemirror_mode": {
    "name": "ipython",
    "version": 3
   },
   "file_extension": ".py",
   "mimetype": "text/x-python",
   "name": "python",
   "nbconvert_exporter": "python",
   "pygments_lexer": "ipython3",
   "version": "3.11.0"
  }
 },
 "nbformat": 4,
 "nbformat_minor": 4
}
