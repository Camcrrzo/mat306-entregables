{
 "cells": [
  {
   "cell_type": "markdown",
   "id": "64fe4451",
   "metadata": {},
   "source": [
    "<a href=\"https://colab.research.google.com/github/fralfaro/MAT306/blob/main/docs/labs/lab_04.ipynb\" target=\"_parent\"><img src=\"https://colab.research.google.com/assets/colab-badge.svg\" alt=\"Open In Colab\"/></a>\n",
    "\n",
    "# MAT306 - Laboratorio N°04\n"
   ]
  },
  {
   "cell_type": "markdown",
   "id": "27b10378",
   "metadata": {},
   "source": [
    "**Objetivo**: Aplicar técnicas intermedias y avanzadas de análisis de datos con pandas utilizando un caso real: el Índice de Libertad de Prensa. Este laboratorio incluye operaciones de limpieza, transformación, combinación de datos, y análisis exploratorio usando `merge`, `groupby`, `concat` y otras funciones fundamentales.\n"
   ]
  },
  {
   "cell_type": "markdown",
   "id": "63a15921",
   "metadata": {},
   "source": [
    "\n",
    "\n",
    "**Descripción del Dataset**\n",
    "\n",
    "El presente conjunto de datos está orientado al análisis del **Índice de Libertad de Prensa**, una métrica internacional que evalúa el nivel de libertad del que gozan periodistas y medios de comunicación en distintos países. Este índice es recopilado anualmente por la organización **Reporteros sin Fronteras**.\n",
    "\n",
    "La base de datos contempla observaciones por país y año, e incluye tanto el valor del índice como el ranking correspondiente. A menor puntaje en el índice, mayor nivel de libertad de prensa.\n",
    "\n",
    "**Diccionario de variables**\n",
    "\n",
    "| Variable     | Clase    | Descripción                                                                          |\n",
    "| ------------ | -------- | ------------------------------------------------------------------------------------ |\n",
    "| `codigo_iso` | carácter | Código ISO 3166-1 alfa-3 que representa a cada país.                                 |\n",
    "| `pais`       | carácter | Nombre oficial del país.                                                             |\n",
    "| `anio`       | entero   | Año en que se registró la medición del índice.                                       |\n",
    "| `indice`     | numérico | Valor numérico del Índice de Libertad de Prensa (menor valor indica mayor libertad). |\n",
    "| `ranking`    | entero   | Posición relativa del país en el ranking mundial de libertad de prensa.              |\n",
    "\n",
    "\n",
    "**Fuente original y adaptación pedagógica**\n",
    "\n",
    "* **Fuente original**: [Reporteros sin Fronteras](https://www.rsf-es.org/), recopilado y publicado a través del portal del [Banco Mundial](https://tcdata360.worldbank.org/indicators/h3f86901f?country=BRA&indicator=32416&viz=line_chart&years=2001,2019).\n",
    "* **Adaptación educativa**: Los archivos han sido modificados intencionalmente para incorporar desafíos técnicos que permiten aplicar los contenidos abordados en clases, tales como limpieza de datos, normalización, detección de duplicados, y combinación de fuentes.\n",
    "\n",
    "\n",
    "**Descripción de los archivos disponibles**\n",
    "\n",
    "* **`libertad_prensa_codigo.csv`**: Contiene los pares `codigo_iso` y `pais`. Incluye intencionalmente un código ISO con dos nombres distintos de país para efectos de limpieza y validación de datos.\n",
    "\n",
    "* **`libertad_prensa_01.csv`**: Contiene registros de los años **anteriores a 2010**. Incluye las variables `PAIS`, `ANIO`, `INDICE`, y `RANKING` con nombres de columna en **mayúsculas**.\n",
    "\n",
    "* **`libertad_prensa_02.csv`**: Contiene registros de los años **desde 2010 en adelante**. Estructura similar al archivo anterior, con nombres de columna también en **mayúsculas**.\n",
    "\n",
    "\n",
    "\n"
   ]
  },
  {
   "cell_type": "code",
   "execution_count": 24,
   "id": "28a58320",
   "metadata": {},
   "outputs": [],
   "source": [
    "import numpy as np \n",
    "import pandas as pd\n",
    "\n",
    "# lectura de datos\n",
    "archivos_anio = [\n",
    "    'https://raw.githubusercontent.com/fralfaro/MAT306/main/docs/labs/data/libertad_prensa_01.csv',\n",
    "    'https://raw.githubusercontent.com/fralfaro/MAT306/main/docs/labs/data/libertad_prensa_02.csv'\n",
    " ] \n",
    "url_codigos = 'https://raw.githubusercontent.com/fralfaro/MAT306/main/docs/labs/data/libertad_prensa_codigo.csv'"
   ]
  },
  {
   "cell_type": "markdown",
   "id": "0894056d",
   "metadata": {},
   "source": [
    "\n",
    "\n",
    "### 1. Consolidación y limpieza de datos\n",
    "\n",
    "A partir de los archivos disponibles, realice los siguientes pasos:\n",
    "\n",
    "**a)** Cree un DataFrame llamado `df_anio` que consolide la información proveniente de los archivos **`libertad_prensa_01.csv`** y **`libertad_prensa_02.csv`**, correspondientes a distintas ventanas de tiempo. Recuerde que ambos archivos tienen nombres de columnas en mayúscula, por lo que debe normalizarlas a **minúscula** para asegurar consistencia.\n",
    "\n",
    "**b)** Explore el archivo **`libertad_prensa_codigo.csv`** e identifique el código ISO que aparece asociado a dos nombres de país distintos. Elimine el registro que corresponda a un valor incorrecto o inconsistente, conservando solo el que considere válido.\n",
    "\n",
    "**c)** Una vez preparados los archivos, cree un nuevo DataFrame llamado `df` que combine `df_anio` con `df_codigos`, utilizando la columna `codigo_iso` como clave. Asegúrese de realizar una unión que conserve únicamente los registros que tengan coincidencia en ambas fuentes.\n",
    "\n",
    "> **Sugerencia**:\n",
    ">\n",
    "> * Para unir los archivos por filas (años), utilice la función `pd.concat([...])`.\n",
    "> * Para combinar información por columnas (variables), utilice `pd.merge(...)` especificando `on='codigo_iso'`.\n",
    "\n"
   ]
  },
  {
   "cell_type": "code",
   "execution_count": 25,
   "id": "cfd268a0",
   "metadata": {},
   "outputs": [],
   "source": [
    "# Lectura\n",
    "df_anio1 = pd.read_csv(archivos_anio[0])\n",
    "df_anio2 = pd.read_csv(archivos_anio[1])\n",
    "df_codigos = pd.read_csv(url_codigos)\n",
    "\n",
    "# A minúscula\n",
    "df_anio1.columns = df_anio1.columns.str.lower()\n",
    "df_anio2.columns = df_anio2.columns.str.lower()\n",
    "df_codigos.columns = df_codigos.columns.str.lower()\n",
    "\n",
    "# CONCAT\n",
    "df_anio = pd.concat([df_anio1, df_anio2], ignore_index=True)\n",
    "\n",
    "# Merge\n",
    "df = pd.merge(df_anio, df_codigos, on='codigo_iso', how='inner')\n"
   ]
  },
  {
   "cell_type": "code",
   "execution_count": 26,
   "id": "604cb8c7",
   "metadata": {},
   "outputs": [],
   "source": [
    "df_codigos = df_codigos[(df_codigos['pais'] != 'malo') & (df_codigos['codigo_iso'] != 'NER')]"
   ]
  },
  {
   "cell_type": "markdown",
   "id": "282e8301",
   "metadata": {},
   "source": [
    "\n",
    "\n",
    "### 2. Exploración inicial del conjunto de datos\n",
    "\n",
    "Una vez que hayas consolidado el DataFrame final `df`, realiza un análisis exploratorio básico respondiendo las siguientes preguntas:\n",
    "\n",
    "#### **Estructura del DataFrame**\n",
    "\n",
    "* ¿Cuántas **filas (observaciones)** contiene el conjunto de datos?\n",
    "* ¿Cuántas **columnas** tiene el DataFrame?\n",
    "* ¿Cuáles son los **nombres de las columnas**?\n",
    "* ¿Qué **tipo de datos** tiene cada columna?\n",
    "* ¿Hay columnas con un tipo de dato inesperado (por ejemplo, fechas como strings)?\n",
    "\n",
    "#### **Resumen estadístico**\n",
    "\n",
    "* Genera un resumen estadístico del conjunto de datos con `.describe()`.\n",
    "  ¿Qué observas sobre los valores de `indice` y `ranking`?\n",
    "* ¿Qué valores mínimo, máximo y promedio tiene la columna `indice`?\n",
    "* ¿Qué países presentan los valores extremos en `indice` y `ranking`?\n",
    "\n",
    "#### **Datos faltantes**\n",
    "\n",
    "* ¿Cuántos valores nulos hay en cada columna?\n",
    "* ¿Qué proporción de observaciones tienen valores faltantes?\n",
    "* ¿Hay columnas con más del 30% de datos faltantes?\n",
    "\n",
    "#### **Unicidad y duplicados**\n",
    "\n",
    "* ¿Cuántos países distintos (`pais`) hay en el DataFrame?\n",
    "* ¿Cuántos años distintos (`anio`) hay representados?\n",
    "* ¿Existen filas duplicadas (exactamente iguales)? ¿Cuántas?\n",
    "\n",
    "#### **Validación cruzada de columnas**\n",
    "\n",
    "* ¿Hay inconsistencias entre el país (`pais`) y su código (`codigo_iso`)?\n",
    "  (por ejemplo, un mismo código ISO asociado a más de un país)\n",
    "\n",
    "> **Sugerencia**: Apoya tu análisis con funciones como `.info()`, `.nunique()`, `.isnull().sum()`, `.duplicated()`, `.value_counts()`, entre otras.\n",
    "\n",
    "\n",
    "\n",
    "    "
   ]
  },
  {
   "cell_type": "code",
   "execution_count": 27,
   "id": "14369830",
   "metadata": {},
   "outputs": [
    {
     "data": {
      "text/plain": [
       "(3077, 5)"
      ]
     },
     "execution_count": 27,
     "metadata": {},
     "output_type": "execute_result"
    }
   ],
   "source": [
    "df.shape"
   ]
  },
  {
   "cell_type": "code",
   "execution_count": 28,
   "id": "310a8719",
   "metadata": {},
   "outputs": [
    {
     "data": {
      "text/plain": [
       "['codigo_iso', 'anio', 'indice', 'ranking', 'pais']"
      ]
     },
     "execution_count": 28,
     "metadata": {},
     "output_type": "execute_result"
    }
   ],
   "source": [
    "df.columns.tolist()"
   ]
  },
  {
   "cell_type": "code",
   "execution_count": 29,
   "id": "d46796ef",
   "metadata": {},
   "outputs": [
    {
     "data": {
      "text/plain": [
       "codigo_iso     object\n",
       "anio            int64\n",
       "indice        float64\n",
       "ranking       float64\n",
       "pais           object\n",
       "dtype: object"
      ]
     },
     "execution_count": 29,
     "metadata": {},
     "output_type": "execute_result"
    }
   ],
   "source": [
    "df.dtypes"
   ]
  },
  {
   "cell_type": "markdown",
   "id": "a15a4ba1",
   "metadata": {},
   "source": [
    "* No hay columnas con un tipo de dato inesperado."
   ]
  },
  {
   "cell_type": "code",
   "execution_count": 30,
   "id": "d70cf131",
   "metadata": {},
   "outputs": [
    {
     "data": {
      "text/html": [
       "<div>\n",
       "<style scoped>\n",
       "    .dataframe tbody tr th:only-of-type {\n",
       "        vertical-align: middle;\n",
       "    }\n",
       "\n",
       "    .dataframe tbody tr th {\n",
       "        vertical-align: top;\n",
       "    }\n",
       "\n",
       "    .dataframe thead th {\n",
       "        text-align: right;\n",
       "    }\n",
       "</style>\n",
       "<table border=\"1\" class=\"dataframe\">\n",
       "  <thead>\n",
       "    <tr style=\"text-align: right;\">\n",
       "      <th></th>\n",
       "      <th>anio</th>\n",
       "      <th>indice</th>\n",
       "      <th>ranking</th>\n",
       "    </tr>\n",
       "  </thead>\n",
       "  <tbody>\n",
       "    <tr>\n",
       "      <th>count</th>\n",
       "      <td>3077.000000</td>\n",
       "      <td>2680.000000</td>\n",
       "      <td>2854.000000</td>\n",
       "    </tr>\n",
       "    <tr>\n",
       "      <th>mean</th>\n",
       "      <td>2009.941176</td>\n",
       "      <td>204.836847</td>\n",
       "      <td>475.715137</td>\n",
       "    </tr>\n",
       "    <tr>\n",
       "      <th>std</th>\n",
       "      <td>5.786018</td>\n",
       "      <td>2687.491660</td>\n",
       "      <td>6455.679267</td>\n",
       "    </tr>\n",
       "    <tr>\n",
       "      <th>min</th>\n",
       "      <td>2001.000000</td>\n",
       "      <td>0.000000</td>\n",
       "      <td>1.000000</td>\n",
       "    </tr>\n",
       "    <tr>\n",
       "      <th>25%</th>\n",
       "      <td>2005.000000</td>\n",
       "      <td>15.490000</td>\n",
       "      <td>35.000000</td>\n",
       "    </tr>\n",
       "    <tr>\n",
       "      <th>50%</th>\n",
       "      <td>2009.000000</td>\n",
       "      <td>28.150000</td>\n",
       "      <td>71.000000</td>\n",
       "    </tr>\n",
       "    <tr>\n",
       "      <th>75%</th>\n",
       "      <td>2015.000000</td>\n",
       "      <td>41.447500</td>\n",
       "      <td>110.000000</td>\n",
       "    </tr>\n",
       "    <tr>\n",
       "      <th>max</th>\n",
       "      <td>2019.000000</td>\n",
       "      <td>64536.000000</td>\n",
       "      <td>121056.000000</td>\n",
       "    </tr>\n",
       "  </tbody>\n",
       "</table>\n",
       "</div>"
      ],
      "text/plain": [
       "              anio        indice        ranking\n",
       "count  3077.000000   2680.000000    2854.000000\n",
       "mean   2009.941176    204.836847     475.715137\n",
       "std       5.786018   2687.491660    6455.679267\n",
       "min    2001.000000      0.000000       1.000000\n",
       "25%    2005.000000     15.490000      35.000000\n",
       "50%    2009.000000     28.150000      71.000000\n",
       "75%    2015.000000     41.447500     110.000000\n",
       "max    2019.000000  64536.000000  121056.000000"
      ]
     },
     "execution_count": 30,
     "metadata": {},
     "output_type": "execute_result"
    }
   ],
   "source": [
    "df.describe()"
   ]
  },
  {
   "cell_type": "markdown",
   "id": "edddb98f",
   "metadata": {},
   "source": [
    "Los valores de `indice` y `ranking` presentan valores extremos muy altos, lo que resulta en una desviación estándar muy alta y valores máximos muy alejados de la media y la mediana. Esto sugiere quizá la necesidad de depurar los valores atípicos/outliers."
   ]
  },
  {
   "cell_type": "code",
   "execution_count": 31,
   "id": "1dfa8a94",
   "metadata": {},
   "outputs": [
    {
     "data": {
      "text/plain": [
       "codigo_iso      0\n",
       "anio            0\n",
       "indice        397\n",
       "ranking       223\n",
       "pais            0\n",
       "dtype: int64"
      ]
     },
     "execution_count": 31,
     "metadata": {},
     "output_type": "execute_result"
    }
   ],
   "source": [
    "df.isnull().sum()"
   ]
  },
  {
   "cell_type": "code",
   "execution_count": 32,
   "id": "65439ba3",
   "metadata": {},
   "outputs": [
    {
     "data": {
      "text/plain": [
       "[0.0, 0.072, 0.016]"
      ]
     },
     "execution_count": 32,
     "metadata": {},
     "output_type": "execute_result"
    }
   ],
   "source": [
    "lista = []\n",
    "for i in range(1, 4):\n",
    "    proporcion = df.isnull().sum().iloc[i]/df.sum().iloc[i]\n",
    "    lista.append(round(float(proporcion*100), 3))\n",
    "lista"
   ]
  },
  {
   "cell_type": "markdown",
   "id": "4aa53b18",
   "metadata": {},
   "source": [
    "No hay columnas con más del 30% de datos faltantes."
   ]
  },
  {
   "cell_type": "code",
   "execution_count": 33,
   "id": "828477b7",
   "metadata": {},
   "outputs": [
    {
     "data": {
      "text/plain": [
       "180"
      ]
     },
     "execution_count": 33,
     "metadata": {},
     "output_type": "execute_result"
    }
   ],
   "source": [
    "df['pais'].nunique()"
   ]
  },
  {
   "cell_type": "code",
   "execution_count": 34,
   "id": "05cd1338",
   "metadata": {},
   "outputs": [
    {
     "data": {
      "text/plain": [
       "17"
      ]
     },
     "execution_count": 34,
     "metadata": {},
     "output_type": "execute_result"
    }
   ],
   "source": [
    "df['anio'].nunique()"
   ]
  },
  {
   "cell_type": "code",
   "execution_count": 35,
   "id": "1e8f4f75",
   "metadata": {},
   "outputs": [
    {
     "data": {
      "text/plain": [
       "0"
      ]
     },
     "execution_count": 35,
     "metadata": {},
     "output_type": "execute_result"
    }
   ],
   "source": [
    "int(df.duplicated().sum())"
   ]
  },
  {
   "cell_type": "code",
   "execution_count": 36,
   "id": "2c426c4f",
   "metadata": {},
   "outputs": [
    {
     "name": "stdout",
     "output_type": "stream",
     "text": [
      "codigo_iso\n",
      "ZWE    2\n",
      "Name: pais, dtype: int64\n"
     ]
    }
   ],
   "source": [
    "coincidencias = df.groupby('codigo_iso')['pais'].nunique()\n",
    "coincidencias = coincidencias[coincidencias > 1]\n",
    "print(coincidencias)"
   ]
  },
  {
   "cell_type": "markdown",
   "id": "98efcc39",
   "metadata": {},
   "source": [
    "\n",
    "\n",
    "\n",
    "### 3. Comparación regional: países latinoamericanos\n",
    "\n",
    "En esta sección se busca identificar cuáles son los países de América Latina que han presentado los valores extremos del **Índice de Libertad de Prensa** en cada año observado.\n",
    "\n",
    "> Recuerda que un menor puntaje en `indice` implica mayor libertad de prensa.\n",
    "\n",
    "#### **Tareas:**\n",
    "\n",
    "**a)** Utilizando un ciclo `for`, recorre cada año del conjunto de datos filtrado por países latinoamericanos, y determina para cada año:\n",
    "\n",
    "* El país con el menor valor de `indice` (mayor libertad de prensa).\n",
    "* El país con el mayor valor de `indice` (menor libertad de prensa).\n",
    "\n",
    "**b)** Resuelve la misma tarea del punto anterior utilizando un enfoque vectorizado con `groupby`, sin usar ciclos explícitos.\n",
    "\n",
    "\n",
    "\n",
    "#### **Lista de países latinoamericanos considerada:**\n",
    "\n",
    "```python\n",
    "america = ['ARG', 'ATG', 'BLZ', 'BOL', 'BRA', 'CAN', 'CHL', 'COL', 'CRI',\n",
    "           'CUB', 'DOM', 'ECU', 'GRD', 'GTM', 'GUY', 'HND', 'HTI', 'JAM',\n",
    "           'MEX', 'NIC', 'PAN', 'PER', 'PRY', 'SLV', 'SUR', 'TTO', 'URY',\n",
    "           'USA', 'VEN']\n",
    "```\n",
    "\n",
    "> Puedes usar esta lista para filtrar el DataFrame final por la columna `codigo_iso`.\n",
    "\n"
   ]
  },
  {
   "cell_type": "code",
   "execution_count": 37,
   "id": "9077a9bc",
   "metadata": {},
   "outputs": [
    {
     "name": "stdout",
     "output_type": "stream",
     "text": [
      "   anio  pais_menor_indice  indice_min pais_mayor_indice  indice_max\n",
      "0  2001             Canadá         0.8              Cuba       90.30\n",
      "1  2002  Trinidad y Tobago         1.0              Cuba       97.83\n",
      "2  2003  Trinidad y Tobago         2.0         Argentina    35826.00\n",
      "3  2004  Trinidad y Tobago         2.0              Cuba       87.00\n",
      "4  2005            Bolivia         4.5              Cuba       95.00\n"
     ]
    }
   ],
   "source": [
    "# respuesta\n",
    "america = ['ARG', 'ATG', 'BLZ', 'BOL', 'BRA', 'CAN', 'CHL', 'COL', 'CRI',\n",
    "       'CUB', 'DOM', 'ECU', 'GRD', 'GTM', 'GUY', 'HND', 'HTI', 'JAM',\n",
    "       'MEX', 'NIC', 'PAN', 'PER', 'PRY', 'SLV', 'SUR', 'TTO', 'URY',\n",
    "       'USA', 'VEN']\n",
    "\n",
    "df_america = df[df['codigo_iso'].isin(america)].copy()\n",
    "\n",
    "df_america['indice'] = pd.to_numeric(df_america['indice'], errors='coerce')\n",
    "df_america = df_america.dropna(subset=['indice'])\n",
    "\n",
    "resultados = []\n",
    "\n",
    "for anio in sorted(df_america['anio'].unique()):\n",
    "    tmp = df_america[df_america['anio'] == anio]\n",
    "\n",
    "    i_min = tmp['indice'].idxmin()\n",
    "    i_max = tmp['indice'].idxmax()\n",
    "\n",
    "    resultados.append({\n",
    "        'anio': anio,\n",
    "        'pais_menor_indice': tmp.loc[i_min, 'pais'],\n",
    "        'indice_min': tmp.loc[i_min, 'indice'],\n",
    "        'pais_mayor_indice': tmp.loc[i_max, 'pais'],\n",
    "        'indice_max': tmp.loc[i_max, 'indice'],\n",
    "    })\n",
    "\n",
    "res = pd.DataFrame(resultados)\n",
    "print(res.head())"
   ]
  },
  {
   "cell_type": "code",
   "execution_count": 38,
   "id": "44a52919",
   "metadata": {},
   "outputs": [
    {
     "name": "stdout",
     "output_type": "stream",
     "text": [
      "   anio  pais_menor_indice  indice_min pais_mayor_indice  indice_max\n",
      "0  2001             Canadá         0.8              Cuba       90.30\n",
      "1  2002  Trinidad y Tobago         1.0              Cuba       97.83\n",
      "2  2003  Trinidad y Tobago         2.0         Argentina    35826.00\n",
      "3  2004  Trinidad y Tobago         2.0              Cuba       87.00\n",
      "4  2005            Bolivia         4.5              Cuba       95.00\n"
     ]
    }
   ],
   "source": [
    "g = df_america.dropna(subset=['indice']).copy()\n",
    "\n",
    "idx_min = g.groupby('anio')['indice'].idxmin()\n",
    "idx_max = g.groupby('anio')['indice'].idxmax()\n",
    "\n",
    "min_df = (\n",
    "    g.loc[idx_min, ['anio','pais','indice']]\n",
    "     .rename(columns={'pais':'pais_menor_indice',\n",
    "                      'indice':'indice_min'})\n",
    ")\n",
    "\n",
    "max_df = (\n",
    "    g.loc[idx_max, ['anio','pais','indice']]\n",
    "     .rename(columns={'pais':'pais_mayor_indice',\n",
    "                      'indice':'indice_max'})\n",
    ")\n",
    "\n",
    "res_vec = (\n",
    "    pd.merge(min_df, max_df, on='anio', how='inner')\n",
    "      .sort_values('anio', ignore_index=True)\n",
    ")\n",
    "\n",
    "print(res_vec.head())\n"
   ]
  },
  {
   "cell_type": "markdown",
   "id": "91532f43",
   "metadata": {},
   "source": [
    "### 4. Análisis anual del índice por país\n",
    "\n",
    "En esta sección se busca analizar la evolución del **índice máximo** de libertad de prensa alcanzado por cada país a lo largo del tiempo.\n",
    "\n",
    "#### **Tarea principal:**\n",
    "\n",
    "* Construye una tabla dinámica (`pivot_table`) donde las **filas** correspondan a los países, las **columnas** a los años (`anio`) y los **valores** sean el `indice` máximo alcanzado por cada país en ese año.\n",
    "* Asegúrate de reemplazar los valores nulos resultantes con `0`.\n",
    "\n",
    "> **Hint**: Puedes utilizar el parámetro `fill_value=0` en `pd.pivot_table(...)`.\n",
    "\n",
    "\n",
    "\n",
    "#### **Preguntas adicionales:**\n",
    "\n",
    "**a)** ¿Qué país tiene el mayor valor de `indice` en toda la tabla resultante? ¿Y cuál tiene el menor (distinto de cero)?\n",
    "**b)** ¿Qué años presentan en promedio los valores de `indice` más altos? ¿Y los más bajos?\n",
    "\n",
    "> (Pista: usa `.mean(axis=0)` sobre la tabla pivot)\n",
    "\n",
    "**c)** ¿Qué país muestra mayor **variabilidad** (diferencia entre su máximo y mínimo `indice` a lo largo del tiempo)?\n",
    "\n",
    "> (Pista: aplica `.max(axis=1) - .min(axis=1)`)\n",
    "\n",
    "**d)** ¿Existen países con índice constante a lo largo de todos los años registrados? ¿Cuáles?\n",
    "\n",
    "**e)** ¿Qué países no tienen ningún dato (es decir, quedaron con todos los valores igual a 0)? ¿Podrías explicar por qué?\n",
    "\n",
    "\n",
    "\n"
   ]
  },
  {
   "cell_type": "code",
   "execution_count": 39,
   "id": "c844a0a8",
   "metadata": {},
   "outputs": [
    {
     "name": "stdout",
     "output_type": "stream",
     "text": [
      "anio         2001   2002   2003   2004   2005   2006   2007   2008   2009  \\\n",
      "pais                                                                        \n",
      "Afghanistán  35.5  40.17  28.25  39.17  44.25  56.50  59.25  54.25  51.67   \n",
      "Albania       0.0   6.50  11.50  14.17  18.00  25.50  16.00  21.75  21.50   \n",
      "Alemania      1.5   1.33   2.00   4.00   5.50   5.75   4.50   3.50   4.25   \n",
      "Algeria      31.0  33.00  43.50  40.33  40.00  40.50  31.33  49.56  47.33   \n",
      "Andorra       0.0   0.00   0.00   0.00   0.00   0.00   0.00   0.00   0.00   \n",
      "\n",
      "anio          2012   2013   2014   2015   2017   2018   2019  \n",
      "pais                                                          \n",
      "Afghanistán  37.36  37.07  37.44  37.75  39.46  37.28  36.55  \n",
      "Albania      30.88  29.92  28.77  29.92  29.92  29.49  29.84  \n",
      "Alemania     10.24  10.23  11.47  14.80  14.97  14.39  14.60  \n",
      "Algeria      36.54  36.26  36.63  41.69  42.83  43.13  45.75  \n",
      "Andorra       6.82   6.82  19.87  19.87  21.03  22.21  24.63  \n"
     ]
    }
   ],
   "source": [
    "tabla = pd.pivot_table(\n",
    "    df,\n",
    "    index='pais',\n",
    "    columns='anio',\n",
    "    values='indice',\n",
    "    aggfunc='max',\n",
    "    fill_value=0\n",
    ")\n",
    "\n",
    "print(tabla.head())\n"
   ]
  },
  {
   "cell_type": "code",
   "execution_count": 40,
   "id": "9655f257",
   "metadata": {},
   "outputs": [
    {
     "name": "stdout",
     "output_type": "stream",
     "text": [
      "Mayor indice: Kosovo\n",
      "Menor indice (≠0): Austria\n"
     ]
    }
   ],
   "source": [
    "pais_max = tabla.max(axis=1).idxmax()\n",
    "pais_min = tabla.replace(0, np.nan).min(axis=1).idxmin()\n",
    "\n",
    "print(\"Mayor indice:\", pais_max)\n",
    "print(\"Menor indice (≠0):\", pais_min)\n"
   ]
  },
  {
   "cell_type": "code",
   "execution_count": 41,
   "id": "cdb283ac",
   "metadata": {},
   "outputs": [
    {
     "name": "stdout",
     "output_type": "stream",
     "text": [
      "Año con mayor promedio: 2013\n",
      "Año con menor promedio: 2001\n"
     ]
    }
   ],
   "source": [
    "anio_max = tabla.mean(axis=0).idxmax()\n",
    "anio_min = tabla.mean(axis=0).idxmin()\n",
    "\n",
    "print(\"Año con mayor promedio:\", anio_max)\n",
    "print(\"Año con menor promedio:\", anio_min)\n"
   ]
  },
  {
   "cell_type": "code",
   "execution_count": 42,
   "id": "6404a9ae",
   "metadata": {},
   "outputs": [
    {
     "name": "stdout",
     "output_type": "stream",
     "text": [
      "País con mayor variabilidad: Kosovo\n"
     ]
    }
   ],
   "source": [
    "variabilidad = (tabla.max(axis=1) - tabla.min(axis=1))\n",
    "pais_var = variabilidad.idxmax()\n",
    "\n",
    "print(\"País con mayor variabilidad:\", pais_var)\n"
   ]
  },
  {
   "cell_type": "code",
   "execution_count": 43,
   "id": "aa2b13a2",
   "metadata": {},
   "outputs": [
    {
     "name": "stdout",
     "output_type": "stream",
     "text": [
      "Países con índice constante: []\n"
     ]
    }
   ],
   "source": [
    "constantes = tabla[tabla.nunique(axis=1) == 1].index.tolist()\n",
    "print(\"Países con índice constante:\", constantes)\n"
   ]
  },
  {
   "cell_type": "code",
   "execution_count": 44,
   "id": "8cab97e3",
   "metadata": {},
   "outputs": [
    {
     "name": "stdout",
     "output_type": "stream",
     "text": [
      "Países sin datos: []\n"
     ]
    }
   ],
   "source": [
    "sin_datos = tabla[(tabla == 0).all(axis=1)].index.tolist()\n",
    "print(\"Países sin datos:\", sin_datos)\n"
   ]
  }
 ],
 "metadata": {
  "kernelspec": {
   "display_name": "Python 3",
   "language": "python",
   "name": "python3"
  },
  "language_info": {
   "codemirror_mode": {
    "name": "ipython",
    "version": 3
   },
   "file_extension": ".py",
   "mimetype": "text/x-python",
   "name": "python",
   "nbconvert_exporter": "python",
   "pygments_lexer": "ipython3",
   "version": "3.11.0"
  }
 },
 "nbformat": 4,
 "nbformat_minor": 5
}
